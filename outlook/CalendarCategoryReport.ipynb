{
 "cells": [
  {
   "cell_type": "code",
   "execution_count": null,
   "metadata": {
    "ExecuteTime": {
     "end_time": "2020-11-12T00:25:39.817195Z",
     "start_time": "2020-11-12T00:25:39.004144Z"
    },
    "scrolled": true
   },
   "outputs": [],
   "source": [
    "from CalendarEvents import CalendarEvents, TodayCalendarEvents\n",
    "import matplotlib\n",
    "import matplotlib.pyplot as plt"
   ]
  },
  {
   "cell_type": "code",
   "execution_count": null,
   "metadata": {
    "ExecuteTime": {
     "end_time": "2020-11-12T00:29:27.998779Z",
     "start_time": "2020-11-12T00:29:27.617100Z"
    }
   },
   "outputs": [],
   "source": [
    "df = TodayCalendarEvents().df\n",
    "total_minutes = int(df[[\"Duration\"]].sum())\n",
    "df = df[[\"Category\", \"Duration\"]].groupby(by=[\"Category\"]).sum()\n",
    "df[\"Percentage\"] = df[\"Duration\"].apply(lambda val: val / total_minutes)\n",
    "df.drop(columns=[\"Duration\"], inplace=True)\n",
    "df.reset_index().plot.pie(y=\"Percentage\",figsize=(10, 10),title=\"Calendar\",fontsize=10)"
   ]
  },
  {
   "cell_type": "code",
   "execution_count": null,
   "metadata": {
    "ExecuteTime": {
     "end_time": "2020-11-12T00:29:51.850724Z",
     "start_time": "2020-11-12T00:29:51.556666Z"
    }
   },
   "outputs": [],
   "source": [
    "TodayCalendarEvents().category_summary()"
   ]
  },
  {
   "cell_type": "code",
   "execution_count": null,
   "metadata": {
    "ExecuteTime": {
     "end_time": "2020-11-12T00:29:54.637040Z",
     "start_time": "2020-11-12T00:29:53.156908Z"
    }
   },
   "outputs": [],
   "source": [
    "calendar = CalendarEvents(\"2020-11-02\", \"2020-11-10\")\n",
    "\n",
    "calendar.category_summary()"
   ]
  },
  {
   "cell_type": "code",
   "execution_count": null,
   "metadata": {
    "ExecuteTime": {
     "end_time": "2020-11-12T00:29:54.740055Z",
     "start_time": "2020-11-12T00:29:54.640040Z"
    }
   },
   "outputs": [],
   "source": [
    "calendar.daily_summary()"
   ]
  },
  {
   "cell_type": "code",
   "execution_count": null,
   "metadata": {
    "ExecuteTime": {
     "end_time": "2020-11-12T00:29:57.330347Z",
     "start_time": "2020-11-12T00:29:56.306231Z"
    }
   },
   "outputs": [],
   "source": [
    "import datetime\n",
    "onDay = lambda date, day: date + datetime.timedelta(days=(day-date.weekday()-1)%7)\n",
    "next_monday = onDay(datetime.date.today(), 1)\n",
    "next_friday = onDay(next_monday, 5)\n",
    "next_monday = next_monday.strftime(\"%Y-%m-%d\")\n",
    "next_friday = next_friday.strftime(\"%Y-%m-%d\")\n",
    "next_week = CalendarEvents(next_monday, next_friday)\n",
    "\n",
    "next_week.daily_summary()"
   ]
  }
 ],
 "metadata": {
  "kernelspec": {
   "display_name": "Python 3",
   "language": "python",
   "name": "python3"
  },
  "language_info": {
   "codemirror_mode": {
    "name": "ipython",
    "version": 3
   },
   "file_extension": ".py",
   "mimetype": "text/x-python",
   "name": "python",
   "nbconvert_exporter": "python",
   "pygments_lexer": "ipython3",
   "version": "3.8.3"
  },
  "toc": {
   "base_numbering": 1,
   "nav_menu": {},
   "number_sections": true,
   "sideBar": true,
   "skip_h1_title": false,
   "title_cell": "Table of Contents",
   "title_sidebar": "Contents",
   "toc_cell": false,
   "toc_position": {},
   "toc_section_display": true,
   "toc_window_display": false
  }
 },
 "nbformat": 4,
 "nbformat_minor": 4
}
