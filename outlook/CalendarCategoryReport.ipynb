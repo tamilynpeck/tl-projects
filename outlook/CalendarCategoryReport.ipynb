{
 "cells": [
  {
   "cell_type": "code",
   "execution_count": 2,
   "metadata": {
    "ExecuteTime": {
     "end_time": "2020-11-11T21:22:00.005578Z",
     "start_time": "2020-11-11T21:21:59.479135Z"
    },
    "scrolled": true
   },
   "outputs": [],
   "source": [
    "from CalendarEvents import CalendarEvents, TodayCalendarEvents"
   ]
  },
  {
   "cell_type": "code",
   "execution_count": 3,
   "metadata": {
    "ExecuteTime": {
     "end_time": "2020-11-11T21:22:03.945784Z",
     "start_time": "2020-11-11T21:22:00.008576Z"
    }
   },
   "outputs": [
    {
     "data": {
      "text/html": [
       "<style  type=\"text/css\" >\n",
       "</style><table id=\"T_f1a3f278_2463_11eb_916e_08d23e8c9d2f\" ><thead>    <tr>        <th class=\"blank level0\" ></th>        <th class=\"col_heading level0 col0\" >Duration</th>        <th class=\"col_heading level0 col1\" >Percentage</th>    </tr>    <tr>        <th class=\"index_name level0\" >Category</th>        <th class=\"blank\" ></th>        <th class=\"blank\" ></th>    </tr></thead><tbody>\n",
       "                <tr>\n",
       "                        <th id=\"T_f1a3f278_2463_11eb_916e_08d23e8c9d2flevel0_row0\" class=\"row_heading level0 row0\" >Break</th>\n",
       "                        <td id=\"T_f1a3f278_2463_11eb_916e_08d23e8c9d2frow0_col0\" class=\"data row0 col0\" >60</td>\n",
       "                        <td id=\"T_f1a3f278_2463_11eb_916e_08d23e8c9d2frow0_col1\" class=\"data row0 col1\" >13.33%</td>\n",
       "            </tr>\n",
       "            <tr>\n",
       "                        <th id=\"T_f1a3f278_2463_11eb_916e_08d23e8c9d2flevel0_row1\" class=\"row_heading level0 row1\" >Coding Tickets</th>\n",
       "                        <td id=\"T_f1a3f278_2463_11eb_916e_08d23e8c9d2frow1_col0\" class=\"data row1 col0\" >120</td>\n",
       "                        <td id=\"T_f1a3f278_2463_11eb_916e_08d23e8c9d2frow1_col1\" class=\"data row1 col1\" >26.67%</td>\n",
       "            </tr>\n",
       "            <tr>\n",
       "                        <th id=\"T_f1a3f278_2463_11eb_916e_08d23e8c9d2flevel0_row2\" class=\"row_heading level0 row2\" >Documentation</th>\n",
       "                        <td id=\"T_f1a3f278_2463_11eb_916e_08d23e8c9d2frow2_col0\" class=\"data row2 col0\" >60</td>\n",
       "                        <td id=\"T_f1a3f278_2463_11eb_916e_08d23e8c9d2frow2_col1\" class=\"data row2 col1\" >13.33%</td>\n",
       "            </tr>\n",
       "            <tr>\n",
       "                        <th id=\"T_f1a3f278_2463_11eb_916e_08d23e8c9d2flevel0_row3\" class=\"row_heading level0 row3\" >Learning</th>\n",
       "                        <td id=\"T_f1a3f278_2463_11eb_916e_08d23e8c9d2frow3_col0\" class=\"data row3 col0\" >90</td>\n",
       "                        <td id=\"T_f1a3f278_2463_11eb_916e_08d23e8c9d2frow3_col1\" class=\"data row3 col1\" >20.00%</td>\n",
       "            </tr>\n",
       "            <tr>\n",
       "                        <th id=\"T_f1a3f278_2463_11eb_916e_08d23e8c9d2flevel0_row4\" class=\"row_heading level0 row4\" >Meetings</th>\n",
       "                        <td id=\"T_f1a3f278_2463_11eb_916e_08d23e8c9d2frow4_col0\" class=\"data row4 col0\" >120</td>\n",
       "                        <td id=\"T_f1a3f278_2463_11eb_916e_08d23e8c9d2frow4_col1\" class=\"data row4 col1\" >26.67%</td>\n",
       "            </tr>\n",
       "    </tbody></table>"
      ],
      "text/plain": [
       "<pandas.io.formats.style.Styler at 0x1da962b2e20>"
      ]
     },
     "execution_count": 3,
     "metadata": {},
     "output_type": "execute_result"
    }
   ],
   "source": [
    "TodayCalendarEvents().category_summary()"
   ]
  },
  {
   "cell_type": "code",
   "execution_count": 4,
   "metadata": {
    "ExecuteTime": {
     "end_time": "2020-11-11T21:22:06.283270Z",
     "start_time": "2020-11-11T21:22:03.955784Z"
    }
   },
   "outputs": [
    {
     "data": {
      "text/html": [
       "<style  type=\"text/css\" >\n",
       "</style><table id=\"T_f30961de_2463_11eb_a6f0_08d23e8c9d2f\" ><thead>    <tr>        <th class=\"blank level0\" ></th>        <th class=\"col_heading level0 col0\" >Duration</th>        <th class=\"col_heading level0 col1\" >Percentage</th>    </tr>    <tr>        <th class=\"index_name level0\" >Category</th>        <th class=\"blank\" ></th>        <th class=\"blank\" ></th>    </tr></thead><tbody>\n",
       "                <tr>\n",
       "                        <th id=\"T_f30961de_2463_11eb_a6f0_08d23e8c9d2flevel0_row0\" class=\"row_heading level0 row0\" >Break</th>\n",
       "                        <td id=\"T_f30961de_2463_11eb_a6f0_08d23e8c9d2frow0_col0\" class=\"data row0 col0\" >390</td>\n",
       "                        <td id=\"T_f30961de_2463_11eb_a6f0_08d23e8c9d2frow0_col1\" class=\"data row0 col1\" >11.54%</td>\n",
       "            </tr>\n",
       "            <tr>\n",
       "                        <th id=\"T_f30961de_2463_11eb_a6f0_08d23e8c9d2flevel0_row1\" class=\"row_heading level0 row1\" >Coding Tickets</th>\n",
       "                        <td id=\"T_f30961de_2463_11eb_a6f0_08d23e8c9d2frow1_col0\" class=\"data row1 col0\" >450</td>\n",
       "                        <td id=\"T_f30961de_2463_11eb_a6f0_08d23e8c9d2frow1_col1\" class=\"data row1 col1\" >13.31%</td>\n",
       "            </tr>\n",
       "            <tr>\n",
       "                        <th id=\"T_f30961de_2463_11eb_a6f0_08d23e8c9d2flevel0_row2\" class=\"row_heading level0 row2\" >Documentation</th>\n",
       "                        <td id=\"T_f30961de_2463_11eb_a6f0_08d23e8c9d2frow2_col0\" class=\"data row2 col0\" >150</td>\n",
       "                        <td id=\"T_f30961de_2463_11eb_a6f0_08d23e8c9d2frow2_col1\" class=\"data row2 col1\" >4.44%</td>\n",
       "            </tr>\n",
       "            <tr>\n",
       "                        <th id=\"T_f30961de_2463_11eb_a6f0_08d23e8c9d2flevel0_row3\" class=\"row_heading level0 row3\" >Learning</th>\n",
       "                        <td id=\"T_f30961de_2463_11eb_a6f0_08d23e8c9d2frow3_col0\" class=\"data row3 col0\" >540</td>\n",
       "                        <td id=\"T_f30961de_2463_11eb_a6f0_08d23e8c9d2frow3_col1\" class=\"data row3 col1\" >15.98%</td>\n",
       "            </tr>\n",
       "            <tr>\n",
       "                        <th id=\"T_f30961de_2463_11eb_a6f0_08d23e8c9d2flevel0_row4\" class=\"row_heading level0 row4\" >Meetings</th>\n",
       "                        <td id=\"T_f30961de_2463_11eb_a6f0_08d23e8c9d2frow4_col0\" class=\"data row4 col0\" >950</td>\n",
       "                        <td id=\"T_f30961de_2463_11eb_a6f0_08d23e8c9d2frow4_col1\" class=\"data row4 col1\" >28.11%</td>\n",
       "            </tr>\n",
       "            <tr>\n",
       "                        <th id=\"T_f30961de_2463_11eb_a6f0_08d23e8c9d2flevel0_row5\" class=\"row_heading level0 row5\" >Miscellaneous</th>\n",
       "                        <td id=\"T_f30961de_2463_11eb_a6f0_08d23e8c9d2frow5_col0\" class=\"data row5 col0\" >30</td>\n",
       "                        <td id=\"T_f30961de_2463_11eb_a6f0_08d23e8c9d2frow5_col1\" class=\"data row5 col1\" >0.89%</td>\n",
       "            </tr>\n",
       "            <tr>\n",
       "                        <th id=\"T_f30961de_2463_11eb_a6f0_08d23e8c9d2flevel0_row6\" class=\"row_heading level0 row6\" >Pod 4 SME</th>\n",
       "                        <td id=\"T_f30961de_2463_11eb_a6f0_08d23e8c9d2frow6_col0\" class=\"data row6 col0\" >30</td>\n",
       "                        <td id=\"T_f30961de_2463_11eb_a6f0_08d23e8c9d2frow6_col1\" class=\"data row6 col1\" >0.89%</td>\n",
       "            </tr>\n",
       "            <tr>\n",
       "                        <th id=\"T_f30961de_2463_11eb_a6f0_08d23e8c9d2flevel0_row7\" class=\"row_heading level0 row7\" >Support Tickets</th>\n",
       "                        <td id=\"T_f30961de_2463_11eb_a6f0_08d23e8c9d2frow7_col0\" class=\"data row7 col0\" >840</td>\n",
       "                        <td id=\"T_f30961de_2463_11eb_a6f0_08d23e8c9d2frow7_col1\" class=\"data row7 col1\" >24.85%</td>\n",
       "            </tr>\n",
       "    </tbody></table>"
      ],
      "text/plain": [
       "<pandas.io.formats.style.Styler at 0x1da961696d0>"
      ]
     },
     "execution_count": 4,
     "metadata": {},
     "output_type": "execute_result"
    }
   ],
   "source": [
    "calendar = CalendarEvents(\"2020-11-02\", \"2020-11-10\")\n",
    "\n",
    "calendar.category_summary()"
   ]
  },
  {
   "cell_type": "code",
   "execution_count": 6,
   "metadata": {
    "ExecuteTime": {
     "end_time": "2020-11-11T21:22:06.497798Z",
     "start_time": "2020-11-11T21:22:06.394797Z"
    }
   },
   "outputs": [
    {
     "data": {
      "text/html": [
       "<div>\n",
       "<style scoped>\n",
       "    .dataframe tbody tr th:only-of-type {\n",
       "        vertical-align: middle;\n",
       "    }\n",
       "\n",
       "    .dataframe tbody tr th {\n",
       "        vertical-align: top;\n",
       "    }\n",
       "\n",
       "    .dataframe thead th {\n",
       "        text-align: right;\n",
       "    }\n",
       "</style>\n",
       "<table border=\"1\" class=\"dataframe\">\n",
       "  <thead>\n",
       "    <tr style=\"text-align: right;\">\n",
       "      <th></th>\n",
       "      <th>Duration</th>\n",
       "      <th>Hours</th>\n",
       "      <th>Break</th>\n",
       "      <th>Coding Tickets</th>\n",
       "      <th>Documentation</th>\n",
       "      <th>Learning</th>\n",
       "      <th>Meetings</th>\n",
       "      <th>Miscellaneous</th>\n",
       "      <th>Pod 4 SME</th>\n",
       "      <th>Support Tickets</th>\n",
       "    </tr>\n",
       "    <tr>\n",
       "      <th>Date</th>\n",
       "      <th></th>\n",
       "      <th></th>\n",
       "      <th></th>\n",
       "      <th></th>\n",
       "      <th></th>\n",
       "      <th></th>\n",
       "      <th></th>\n",
       "      <th></th>\n",
       "      <th></th>\n",
       "      <th></th>\n",
       "    </tr>\n",
       "  </thead>\n",
       "  <tbody>\n",
       "    <tr>\n",
       "      <th>11/02/2020</th>\n",
       "      <td>445</td>\n",
       "      <td>7.416667</td>\n",
       "      <td>13.48%</td>\n",
       "      <td>0.00%</td>\n",
       "      <td>6.74%</td>\n",
       "      <td>20.22%</td>\n",
       "      <td>32.58%</td>\n",
       "      <td>0.00%</td>\n",
       "      <td>0.00%</td>\n",
       "      <td>26.97%</td>\n",
       "    </tr>\n",
       "    <tr>\n",
       "      <th>11/03/2020</th>\n",
       "      <td>420</td>\n",
       "      <td>7.000000</td>\n",
       "      <td>7.14%</td>\n",
       "      <td>28.57%</td>\n",
       "      <td>0.00%</td>\n",
       "      <td>21.43%</td>\n",
       "      <td>14.29%</td>\n",
       "      <td>0.00%</td>\n",
       "      <td>0.00%</td>\n",
       "      <td>28.57%</td>\n",
       "    </tr>\n",
       "    <tr>\n",
       "      <th>11/04/2020</th>\n",
       "      <td>540</td>\n",
       "      <td>9.000000</td>\n",
       "      <td>11.11%</td>\n",
       "      <td>22.22%</td>\n",
       "      <td>0.00%</td>\n",
       "      <td>16.67%</td>\n",
       "      <td>44.44%</td>\n",
       "      <td>0.00%</td>\n",
       "      <td>0.00%</td>\n",
       "      <td>5.56%</td>\n",
       "    </tr>\n",
       "    <tr>\n",
       "      <th>11/05/2020</th>\n",
       "      <td>510</td>\n",
       "      <td>8.500000</td>\n",
       "      <td>11.76%</td>\n",
       "      <td>17.65%</td>\n",
       "      <td>11.76%</td>\n",
       "      <td>11.76%</td>\n",
       "      <td>23.53%</td>\n",
       "      <td>0.00%</td>\n",
       "      <td>0.00%</td>\n",
       "      <td>23.53%</td>\n",
       "    </tr>\n",
       "    <tr>\n",
       "      <th>11/06/2020</th>\n",
       "      <td>480</td>\n",
       "      <td>8.000000</td>\n",
       "      <td>12.50%</td>\n",
       "      <td>18.75%</td>\n",
       "      <td>12.50%</td>\n",
       "      <td>12.50%</td>\n",
       "      <td>25.00%</td>\n",
       "      <td>0.00%</td>\n",
       "      <td>0.00%</td>\n",
       "      <td>18.75%</td>\n",
       "    </tr>\n",
       "    <tr>\n",
       "      <th>11/09/2020</th>\n",
       "      <td>475</td>\n",
       "      <td>7.916667</td>\n",
       "      <td>12.63%</td>\n",
       "      <td>6.32%</td>\n",
       "      <td>0.00%</td>\n",
       "      <td>12.63%</td>\n",
       "      <td>49.47%</td>\n",
       "      <td>0.00%</td>\n",
       "      <td>0.00%</td>\n",
       "      <td>18.95%</td>\n",
       "    </tr>\n",
       "    <tr>\n",
       "      <th>11/10/2020</th>\n",
       "      <td>510</td>\n",
       "      <td>8.500000</td>\n",
       "      <td>11.76%</td>\n",
       "      <td>0.00%</td>\n",
       "      <td>0.00%</td>\n",
       "      <td>17.65%</td>\n",
       "      <td>5.88%</td>\n",
       "      <td>5.88%</td>\n",
       "      <td>5.88%</td>\n",
       "      <td>52.94%</td>\n",
       "    </tr>\n",
       "  </tbody>\n",
       "</table>\n",
       "</div>"
      ],
      "text/plain": [
       "            Duration     Hours   Break Coding Tickets Documentation Learning  \\\n",
       "Date                                                                           \n",
       "11/02/2020       445  7.416667  13.48%          0.00%         6.74%   20.22%   \n",
       "11/03/2020       420  7.000000   7.14%         28.57%         0.00%   21.43%   \n",
       "11/04/2020       540  9.000000  11.11%         22.22%         0.00%   16.67%   \n",
       "11/05/2020       510  8.500000  11.76%         17.65%        11.76%   11.76%   \n",
       "11/06/2020       480  8.000000  12.50%         18.75%        12.50%   12.50%   \n",
       "11/09/2020       475  7.916667  12.63%          6.32%         0.00%   12.63%   \n",
       "11/10/2020       510  8.500000  11.76%          0.00%         0.00%   17.65%   \n",
       "\n",
       "           Meetings Miscellaneous Pod 4 SME Support Tickets  \n",
       "Date                                                         \n",
       "11/02/2020   32.58%         0.00%     0.00%          26.97%  \n",
       "11/03/2020   14.29%         0.00%     0.00%          28.57%  \n",
       "11/04/2020   44.44%         0.00%     0.00%           5.56%  \n",
       "11/05/2020   23.53%         0.00%     0.00%          23.53%  \n",
       "11/06/2020   25.00%         0.00%     0.00%          18.75%  \n",
       "11/09/2020   49.47%         0.00%     0.00%          18.95%  \n",
       "11/10/2020    5.88%         5.88%     5.88%          52.94%  "
      ]
     },
     "execution_count": 6,
     "metadata": {},
     "output_type": "execute_result"
    }
   ],
   "source": [
    "calendar.daily_summary()"
   ]
  }
 ],
 "metadata": {
  "kernelspec": {
   "display_name": "Python 3",
   "language": "python",
   "name": "python3"
  },
  "language_info": {
   "codemirror_mode": {
    "name": "ipython",
    "version": 3
   },
   "file_extension": ".py",
   "mimetype": "text/x-python",
   "name": "python",
   "nbconvert_exporter": "python",
   "pygments_lexer": "ipython3",
   "version": "3.8.3"
  },
  "toc": {
   "base_numbering": 1,
   "nav_menu": {},
   "number_sections": true,
   "sideBar": true,
   "skip_h1_title": false,
   "title_cell": "Table of Contents",
   "title_sidebar": "Contents",
   "toc_cell": false,
   "toc_position": {},
   "toc_section_display": true,
   "toc_window_display": false
  }
 },
 "nbformat": 4,
 "nbformat_minor": 4
}
